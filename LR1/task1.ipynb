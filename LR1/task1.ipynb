{
 "cells": [
  {
   "cell_type": "code",
   "execution_count": 319,
   "id": "50d11c6e",
   "metadata": {},
   "outputs": [],
   "source": [
    "import numpy as np\n",
    "import pandas as pd\n",
    "import matplotlib.pyplot as plt\n",
    "import seaborn as sb\n",
    "import scipy.stats as sps"
   ]
  },
  {
   "cell_type": "code",
   "execution_count": 320,
   "id": "ababc1fd",
   "metadata": {},
   "outputs": [],
   "source": [
    "N, M = 4, 4\n",
    "C = 5000\n",
    "ERR_CHI = 0.95\n",
    "ERR_NORM = 0.975\n",
    "Ai, Bj = [x for x in range(N)], [x for x in range(M)]"
   ]
  },
  {
   "cell_type": "code",
   "execution_count": 321,
   "id": "b3419127",
   "metadata": {},
   "outputs": [],
   "source": [
    "def index(array, arity):\n",
    "    array = [sum([array[t] for t in range(x + 1)]) for x in range(arity)]\n",
    "    rand_value = np.random.random()\n",
    "    index = len(array) - 1\n",
    "    for x in array:\n",
    "        if x >= rand_value:\n",
    "            index = array.index(x)\n",
    "            break\n",
    "    return index"
   ]
  },
  {
   "cell_type": "code",
   "execution_count": 322,
   "id": "c3a87b9a",
   "metadata": {},
   "outputs": [],
   "source": [
    "def generate(Pij):\n",
    "    row_sums = [sum(x) for x in Pij]\n",
    "    i = index(row_sums, N)\n",
    "    n_rows = [x / sum(Pij[i]) for x in Pij[i]]\n",
    "    j = index(n_rows, M)\n",
    "\n",
    "    return (i, j)"
   ]
  },
  {
   "cell_type": "code",
   "execution_count": 323,
   "id": "3c70577b",
   "metadata": {},
   "outputs": [],
   "source": [
    "def expected(Pij, Ai = Ai, Bj = Bj):\n",
    "    e_row = 0\n",
    "    for i in range(N):\n",
    "        for j in range(M):\n",
    "            e_row += Ai[i] * Pij[i][j]\n",
    "\n",
    "    e_col = 0\n",
    "    for j in range(M):\n",
    "        for i in range(N):\n",
    "            e_col += Bj[j] * Pij[i][j]\n",
    "\n",
    "    return (e_row, e_col)"
   ]
  },
  {
   "cell_type": "code",
   "execution_count": 324,
   "id": "e9986d6b",
   "metadata": {},
   "outputs": [],
   "source": [
    "def show(Pij, normalized_m):\n",
    "    a_prob_th, b_prob_th = np.sum(Pij, axis=1), np.sum(Pij, axis=0)\n",
    "    a_prob_real, b_prob_real = np.sum(normalized_m, axis=1), np.sum(normalized_m, axis=0)\n",
    "    data = {'P(A)_th': a_prob_th.tolist(), 'P(A)_real': a_prob_real.tolist()}\n",
    "    df = pd.DataFrame(data)\n",
    "    df.plot(kind='bar')\n",
    "    plt.show()\n",
    "\n",
    "    data = {'P(B)_th': b_prob_th.tolist(), 'P(B)_real': b_prob_real.tolist()}\n",
    "    df = pd.DataFrame(data)\n",
    "    df.plot(kind='bar')\n",
    "    plt.show()\n",
    "\n",
    "    sb.heatmap(normalized_m, cmap='summer')\n",
    "    plt.show()"
   ]
  },
  {
   "cell_type": "code",
   "execution_count": 325,
   "id": "3edb1149",
   "metadata": {},
   "outputs": [],
   "source": [
    "def correlation(normalized_m, a_exp, b_exp, a_disp, b_disp):\n",
    "    ab_exp = 0\n",
    "    for i in range(N):\n",
    "        for j in range(M):\n",
    "            ab_exp += normalized_m[i][j] * Ai[i] * Bj[j]\n",
    "    cov = ab_exp - a_exp * b_exp\n",
    "\n",
    "    cor = cov / np.sqrt(a_disp * b_disp)\n",
    "    print(f'Correlation: {cor}\\n')"
   ]
  },
  {
   "cell_type": "code",
   "execution_count": 326,
   "id": "5cf7cda9",
   "metadata": {},
   "outputs": [],
   "source": [
    "def chi2(Pij, normalized_m):\n",
    "    chi = C * np.sum(np.square(normalized_m - Pij) / Pij)\n",
    "    print(f'Pirson agreement = {chi}')\n",
    "    ppf = sps.chi2.ppf(ERR_CHI, Pij.shape[0] * Pij.shape[1] - 1)\n",
    "    if chi < ppf:\n",
    "        print(chi, '<', ppf)\n",
    "        print(f'Real(Emp) covengers to theor', end='\\n\\n')\n",
    "    else:\n",
    "        print(chi, '>', ppf)\n",
    "        print(f'Real(Emp) diverges from theor', end='\\n\\n')"
   ]
  },
  {
   "cell_type": "code",
   "execution_count": 327,
   "id": "bb1d3cea",
   "metadata": {},
   "outputs": [],
   "source": [
    "def exp_estimation(e_a, d_a, e_b, d_b):\n",
    "    d = sps.norm.ppf(ERR_NORM) * np.sqrt(d_a) / np.sqrt(C)\n",
    "    print(f'M_estimation(А): ({e_a - d}, {e_a + d})')\n",
    "    d = sps.norm.ppf(ERR_NORM) * np.sqrt(d_b) / np.sqrt(C)\n",
    "    print(f'M_estimation(B): ({e_b - d}, {e_b + d})')"
   ]
  },
  {
   "cell_type": "code",
   "execution_count": 328,
   "id": "9870e11e",
   "metadata": {},
   "outputs": [],
   "source": [
    "def disp_estimation(a_disp, b_disp):\n",
    "    l_a = C * a_disp / sps.chi2.isf(1 - ERR_NORM, C - 1)\n",
    "    r_a = C * a_disp / sps.chi2.isf(ERR_NORM, C - 1)\n",
    "    print(f'D_estimation(А): ({l_a}, {r_a})')\n",
    "    l_b = C * b_disp / sps.chi2.isf(1 - ERR_NORM, C - 1)\n",
    "    r_b = C * b_disp / sps.chi2.isf(ERR_NORM, C - 1)\n",
    "    print(f'D_estimation(B): ({l_b}, {r_b})')"
   ]
  },
  {
   "cell_type": "code",
   "execution_count": 329,
   "id": "c072b889",
   "metadata": {},
   "outputs": [
    {
     "name": "stdout",
     "output_type": "stream",
     "text": [
      "Distribution matrix:\n",
      "[[0.01175914 0.01959189 0.08693356 0.04690179]\n",
      " [0.15210871 0.14421334 0.06234535 0.01674054]\n",
      " [0.0193085  0.05585521 0.05972208 0.11060219]\n",
      " [0.06921688 0.02239016 0.01162647 0.11068418]]\n",
      "\n",
      "Normalized distribution matrix:\n",
      "[[0.0112 0.0162 0.0904 0.0426]\n",
      " [0.1594 0.1376 0.0604 0.0188]\n",
      " [0.0218 0.0532 0.0616 0.1156]\n",
      " [0.0652 0.0236 0.011  0.1114]]\n",
      "\n",
      "E[A]_th: 1.5081369978033428, E[A]_real: 1.5142\n",
      "E[B]_th: 1.5380916158319002, E[B]_real: 1.5426000000000002\n",
      "\n",
      "D[A]_th: 1.0081419357907357, D[A]_real: 0.9929983600000001\n",
      "D[B]_th: 1.323192925011762, D[B]_real: 1.3401852399999998\n",
      "\n",
      "Correlation: 0.14285240641798416\n",
      "\n",
      "Pirson agreement = 15.914541184615105\n",
      "15.914541184615105 < 24.995790139728616\n",
      "Real(Emp) covengers to theor\n",
      "\n",
      "M_estimation(А): (1.4863693128659927, 1.5420306871340073)\n",
      "M_estimation(B): (1.510511789044691, 1.5746882109553093)\n",
      "D_estimation(А): (0.9553822530292949, 1.0333132130239018)\n",
      "D_estimation(B): (1.289417229317283, 1.3945955725361003)\n"
     ]
    },
    {
     "data": {
      "image/png": "[encoded data removed]",
      "text/plain": [
       "<Figure size 432x288 with 1 Axes>"
      ]
     },
     "metadata": {
      "needs_background": "light"
     },
     "output_type": "display_data"
    },
    {
     "data": {
      "image/png": "[encoded data removed]",
      "text/plain": [
       "<Figure size 432x288 with 1 Axes>"
      ]
     },
     "metadata": {
      "needs_background": "light"
     },
     "output_type": "display_data"
    },
    {
     "data": {
      "image/png": "[encoded data removed]",
      "text/plain": [
       "<Figure size 432x288 with 2 Axes>"
      ]
     },
     "metadata": {
      "needs_background": "light"
     },
     "output_type": "display_data"
    }
   ],
   "source": [
    "Pij = np.random.rand(N, M)\n",
    "Pij = np.vectorize(lambda x: x / Pij.sum())(Pij)\n",
    "\n",
    "print('Distribution matrix:')\n",
    "print(Pij, end='\\n\\n')\n",
    "\n",
    "distr_matrix = np.array([[0 for t in range(M)] for x in range(N)])\n",
    "for _ in range(C):\n",
    "    (i, j) = generate(Pij)\n",
    "    distr_matrix[i][j] += 1\n",
    "normalized_matrix = np.vectorize(lambda x: x / distr_matrix.sum())(distr_matrix)\n",
    "\n",
    "print('Normalized distribution matrix:')\n",
    "print(normalized_matrix, end='\\n\\n')\n",
    "\n",
    "a_exp_th, b_exp_th = expected(Pij)\n",
    "a_exp_real, b_exp_real = expected(normalized_matrix)\n",
    "print(f'E[A]_th: {a_exp_th}, E[A]_real: {a_exp_real}')\n",
    "print(f'E[B]_th: {b_exp_th}, E[B]_real: {b_exp_real}', end='\\n\\n')\n",
    "\n",
    "a_exp2_th, b_exp2_th = expected(Pij, [x ** 2 for x in Ai], [x ** 2 for x in Bj])\n",
    "a_disp_th, b_disp_th = a_exp2_th - a_exp_th ** 2, b_exp2_th - b_exp_th ** 2\n",
    "a_exp2_real, b_exp2_real = expected(normalized_matrix, [x ** 2 for x in Ai], [x ** 2 for x in Bj])\n",
    "a_disp_real, b_disp_real = a_exp2_real - a_exp_real ** 2, b_exp2_real - b_exp_real ** 2\n",
    "print(f'D[A]_th: {a_disp_th}, D[A]_real: {a_disp_real}')\n",
    "print(f'D[B]_th: {b_disp_th}, D[B]_real: {b_disp_real}', end='\\n\\n')\n",
    "\n",
    "correlation(normalized_matrix, a_exp_real, b_exp_real, a_disp_real, b_disp_real)\n",
    "chi2(Pij, normalized_matrix)\n",
    "exp_estimation(a_exp_real, a_disp_th, b_exp_real, b_disp_real)\n",
    "disp_estimation(a_disp_real, b_disp_real)\n",
    "\n",
    "show(Pij, normalized_matrix)"
   ]
  },
  {
   "cell_type": "code",
   "execution_count": null,
   "id": "53d5b415",
   "metadata": {},
   "outputs": [],
   "source": []
  },
  {
   "cell_type": "code",
   "execution_count": null,
   "id": "66eb8cb8",
   "metadata": {},
   "outputs": [],
   "source": []
  }
 ],
 "metadata": {
  "kernelspec": {
   "display_name": "Python 3 (ipykernel)",
   "language": "python",
   "name": "python3"
  },
  "language_info": {
   "codemirror_mode": {
    "name": "ipython",
    "version": 3
   },
   "file_extension": ".py",
   "mimetype": "text/x-python",
   "name": "python",
   "nbconvert_exporter": "python",
   "pygments_lexer": "ipython3",
   "version": "3.9.5"
  }
 },
 "nbformat": 4,
 "nbformat_minor": 5
}
